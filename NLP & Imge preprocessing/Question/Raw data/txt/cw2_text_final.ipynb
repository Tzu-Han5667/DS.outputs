{
 "cells": [
  {
   "cell_type": "code",
   "execution_count": 2,
   "metadata": {},
   "outputs": [],
   "source": [
    "import csv\n",
    "import numpy as np\n",
    "from sklearn.pipeline import Pipeline\n",
    "from nltk.tokenize import TweetTokenizer\n",
    "from textblob import TextBlob, Word, Blobber\n",
    "from sklearn.feature_extraction.text import TfidfTransformer\n",
    "from sklearn.feature_extraction.text import CountVectorizer"
   ]
  },
  {
   "cell_type": "code",
   "execution_count": 3,
   "metadata": {},
   "outputs": [],
   "source": [
    "#stopwords\n",
    "\n",
    "stopword=[]\n",
    "with open('english-stop-words-large.txt','r') as file:\n",
    "    files=file.read()\n",
    "file.close()\n",
    "stopword=TextBlob(files)"
   ]
  },
  {
   "cell_type": "code",
   "execution_count": 4,
   "metadata": {},
   "outputs": [],
   "source": [
    "#book content handling (without stopwords)\n",
    "\n",
    "tknzr = TweetTokenizer()\n",
    "book_list=['puck-of-pooks-hill.txt','man-who-would-be-king.txt','kim.txt','just-so-stories.txt',\\\n",
    "           'jungle-book.txt','ginger-pickles.txt','jeremy-fisher.txt','squirrel-nutkin.txt',\\\n",
    "           'benjamin-bunny.txt','peter-rabbit.txt']\n",
    "bk_list={}\n",
    "for i in book_list:\n",
    "    b_k=[]\n",
    "    with open(i) as book:\n",
    "        book=csv.reader(book)\n",
    "        bk=list(book)\n",
    "        for j in bk:\n",
    "            for k in j:\n",
    "                word=tknzr.tokenize(k.strip())\n",
    "                for l in word:\n",
    "                    if l not in stopword:\n",
    "                        b_k.append(l)\n",
    "    bk_list[i]=b_k"
   ]
  },
  {
   "cell_type": "code",
   "execution_count": 5,
   "metadata": {},
   "outputs": [
    {
     "data": {
      "text/plain": [
       "{'puck-of-pooks-hill.txt': 0.09,\n",
       " 'man-who-would-be-king.txt': 0.0688,\n",
       " 'kim.txt': 0.0816,\n",
       " 'just-so-stories.txt': 0.1552,\n",
       " 'jungle-book.txt': 0.0404,\n",
       " 'ginger-pickles.txt': 0.0857,\n",
       " 'jeremy-fisher.txt': 0.0901,\n",
       " 'squirrel-nutkin.txt': 0.0862,\n",
       " 'benjamin-bunny.txt': 0.0864,\n",
       " 'peter-rabbit.txt': 0.0889}"
      ]
     },
     "execution_count": 5,
     "metadata": {},
     "output_type": "execute_result"
    }
   ],
   "source": [
    "#p1-a\n",
    "ploarity_dict={}\n",
    "for i in book_list:\n",
    "    with open(i,'r') as file:\n",
    "        files=file.read()\n",
    "    file.close()\n",
    "    blob=TextBlob(files)\n",
    "    ploarity_dict[i]=round(blob.sentiment.polarity,4)\n",
    "ploarity_dict"
   ]
  },
  {
   "cell_type": "code",
   "execution_count": 6,
   "metadata": {},
   "outputs": [
    {
     "data": {
      "text/plain": [
       "{'puck-of-pooks-hill.txt': 0.4584,\n",
       " 'man-who-would-be-king.txt': 0.4284,\n",
       " 'kim.txt': 0.4719,\n",
       " 'just-so-stories.txt': 0.4898,\n",
       " 'jungle-book.txt': 0.4516,\n",
       " 'ginger-pickles.txt': 0.4232,\n",
       " 'jeremy-fisher.txt': 0.4147,\n",
       " 'squirrel-nutkin.txt': 0.3723,\n",
       " 'benjamin-bunny.txt': 0.3875,\n",
       " 'peter-rabbit.txt': 0.4015}"
      ]
     },
     "execution_count": 6,
     "metadata": {},
     "output_type": "execute_result"
    }
   ],
   "source": [
    "#p1-b\n",
    "subjectivity_dict={}\n",
    "for i in book_list:\n",
    "    with open(i,'r') as file:\n",
    "        files=file.read()\n",
    "    file.close()\n",
    "    blob=TextBlob(files)\n",
    "    subjectivity_dict[i]=round(blob.sentiment.subjectivity,4)\n",
    "subjectivity_dict"
   ]
  },
  {
   "cell_type": "code",
   "execution_count": 7,
   "metadata": {},
   "outputs": [
    {
     "data": {
      "text/plain": [
       "{'puck-of-pooks-hill.txt': 28394,\n",
       " 'man-who-would-be-king.txt': 8067,\n",
       " 'kim.txt': 50776,\n",
       " 'just-so-stories.txt': 14903,\n",
       " 'jungle-book.txt': 24682,\n",
       " 'ginger-pickles.txt': 2470,\n",
       " 'jeremy-fisher.txt': 2229,\n",
       " 'squirrel-nutkin.txt': 2542,\n",
       " 'benjamin-bunny.txt': 2402,\n",
       " 'peter-rabbit.txt': 2314}"
      ]
     },
     "execution_count": 7,
     "metadata": {},
     "output_type": "execute_result"
    }
   ],
   "source": [
    "#p1-c word count \n",
    "word_ct_dict={}\n",
    "for i in bk_list.keys():\n",
    "    word_ct_dict[i]=len(bk_list[i])\n",
    "\n",
    "word_ct_dict"
   ]
  },
  {
   "cell_type": "code",
   "execution_count": 8,
   "metadata": {},
   "outputs": [
    {
     "data": {
      "text/plain": [
       "{'puck-of-pooks-hill.txt': 'men',\n",
       " 'man-who-would-be-king.txt': 'dravot',\n",
       " 'kim.txt': 'kim',\n",
       " 'just-so-stories.txt': 'wild',\n",
       " 'jungle-book.txt': 'mowgli',\n",
       " 'ginger-pickles.txt': 'project',\n",
       " 'jeremy-fisher.txt': 'project',\n",
       " 'squirrel-nutkin.txt': 'project',\n",
       " 'benjamin-bunny.txt': 'project',\n",
       " 'peter-rabbit.txt': 'project'}"
      ]
     },
     "execution_count": 8,
     "metadata": {},
     "output_type": "execute_result"
    }
   ],
   "source": [
    "#p1-def most freq words & normalised\n",
    "\n",
    "freq_dict={}\n",
    "normalised_dict={}\n",
    "tf_dict={}\n",
    "\n",
    "for i in bk_list.keys():\n",
    "    TOP_MOST =1\n",
    "    words = {}\n",
    "    with open(i,'r') as file:\n",
    "        files=file.read()\n",
    "    file.close()\n",
    "    blob=TextBlob(files)\n",
    "    for w in blob.word_counts:\n",
    "        if (w not in stopword and (w!= '‘') and (w != '”')):\n",
    "            words[w] = blob.word_counts[w]\n",
    "    \n",
    "    sorted_words = sorted( words, key=words.__getitem__, reverse=True )\n",
    "    for ( j, w ) in zip( range( TOP_MOST ), sorted_words ):\n",
    "        freq_dict[i]=w\n",
    "        normalised_dict[i]=round(blob.word_counts[w]/word_ct_dict[i],5)\n",
    "        tf_dict[i]=round(blob.word_counts[w]/len(sorted_words),5)\n",
    "    \n",
    "freq_dict"
   ]
  },
  {
   "cell_type": "code",
   "execution_count": 9,
   "metadata": {},
   "outputs": [
    {
     "data": {
      "text/plain": [
       "{'puck-of-pooks-hill.txt': 0.00606,\n",
       " 'man-who-would-be-king.txt': 0.01103,\n",
       " 'kim.txt': 0.01743,\n",
       " 'just-so-stories.txt': 0.00698,\n",
       " 'jungle-book.txt': 0.00891,\n",
       " 'ginger-pickles.txt': 0.03482,\n",
       " 'jeremy-fisher.txt': 0.03858,\n",
       " 'squirrel-nutkin.txt': 0.03423,\n",
       " 'benjamin-bunny.txt': 0.03622,\n",
       " 'peter-rabbit.txt': 0.0376}"
      ]
     },
     "execution_count": 9,
     "metadata": {},
     "output_type": "execute_result"
    }
   ],
   "source": [
    "normalised_dict"
   ]
  },
  {
   "cell_type": "code",
   "execution_count": 10,
   "metadata": {},
   "outputs": [
    {
     "data": {
      "text/plain": [
       "{'puck-of-pooks-hill.txt': 0.02904,\n",
       " 'man-who-would-be-king.txt': 0.03381,\n",
       " 'kim.txt': 0.08931,\n",
       " 'just-so-stories.txt': 0.03408,\n",
       " 'jungle-book.txt': 0.04647,\n",
       " 'ginger-pickles.txt': 0.10424,\n",
       " 'jeremy-fisher.txt': 0.1114,\n",
       " 'squirrel-nutkin.txt': 0.10284,\n",
       " 'benjamin-bunny.txt': 0.11111,\n",
       " 'peter-rabbit.txt': 0.11027}"
      ]
     },
     "execution_count": 10,
     "metadata": {},
     "output_type": "execute_result"
    }
   ],
   "source": [
    "tf_dict"
   ]
  },
  {
   "cell_type": "code",
   "execution_count": 11,
   "metadata": {},
   "outputs": [
    {
     "data": {
      "text/plain": [
       "{'puck-of-pooks-hill.txt': 1.31845,\n",
       " 'man-who-would-be-king.txt': 2.70475,\n",
       " 'kim.txt': 2.70475,\n",
       " 'just-so-stories.txt': 1.45199,\n",
       " 'jungle-book.txt': 2.70475,\n",
       " 'ginger-pickles.txt': 1.0,\n",
       " 'jeremy-fisher.txt': 1.0,\n",
       " 'squirrel-nutkin.txt': 1.0,\n",
       " 'benjamin-bunny.txt': 1.0,\n",
       " 'peter-rabbit.txt': 1.0}"
      ]
     },
     "execution_count": 11,
     "metadata": {},
     "output_type": "execute_result"
    }
   ],
   "source": [
    "#p1-g\n",
    "#corpus\n",
    "corpus=[]\n",
    "for i in book_list:\n",
    "    with open(i,'r') as file:\n",
    "        files=file.read()\n",
    "        corpus.append(files)\n",
    "    file.close()\n",
    "\n",
    "#vocabulary\n",
    "vocabulary=[]\n",
    "for i in freq_dict:\n",
    "    vocabulary.append(freq_dict[i])\n",
    "vocabulary=list(set(vocabulary))\n",
    "pipe = Pipeline([('count', CountVectorizer(vocabulary=vocabulary)),('tfid', TfidfTransformer())]).fit(corpus)\n",
    "idf=list(pipe['tfid'].idf_)\n",
    "voc=pipe['count'].vocabulary\n",
    "\n",
    "#idf_dictionary\n",
    "sum_idf={}\n",
    "for i in range(len(voc)):\n",
    "    sum_idf[voc[i]]=idf[i]\n",
    "\n",
    "#idf with files\n",
    "idf_dict={}\n",
    "for i in freq_dict:\n",
    "    idf_dict[i]=round(sum_idf.get(freq_dict[i]),5)\n",
    "idf_dict"
   ]
  },
  {
   "cell_type": "code",
   "execution_count": 12,
   "metadata": {},
   "outputs": [
    {
     "data": {
      "text/plain": [
       "{'puck-of-pooks-hill.txt': 0.03829,\n",
       " 'man-who-would-be-king.txt': 0.09145,\n",
       " 'kim.txt': 0.24156,\n",
       " 'just-so-stories.txt': 0.04948,\n",
       " 'jungle-book.txt': 0.12569,\n",
       " 'ginger-pickles.txt': 0.10424,\n",
       " 'jeremy-fisher.txt': 0.1114,\n",
       " 'squirrel-nutkin.txt': 0.10284,\n",
       " 'benjamin-bunny.txt': 0.11111,\n",
       " 'peter-rabbit.txt': 0.11027}"
      ]
     },
     "execution_count": 12,
     "metadata": {},
     "output_type": "execute_result"
    }
   ],
   "source": [
    "#p1-h\n",
    "tf_idf_dict={}\n",
    "for i in tf_dict:\n",
    "    tf_idf=tf_dict[i]*idf_dict[i]\n",
    "    tf_idf_dict[i]=round(tf_idf,5)\n",
    "tf_idf_dict"
   ]
  },
  {
   "cell_type": "code",
   "execution_count": 13,
   "metadata": {},
   "outputs": [],
   "source": [
    "#summarise\n",
    "import csv\n",
    "import numpy as np\n",
    "import pandas as pd\n",
    "from sklearn.pipeline import Pipeline\n",
    "from nltk.tokenize import TweetTokenizer\n",
    "from textblob import TextBlob, Word, Blobber\n",
    "from sklearn.feature_extraction.text import TfidfTransformer\n",
    "from sklearn.feature_extraction.text import CountVectorizer\n",
    "\n",
    "#Stopwords\n",
    "stopword=[]\n",
    "with open('english-stop-words-large.txt','r') as file:\n",
    "    files=file.read()\n",
    "file.close()\n",
    "stopword=TextBlob(files)\n",
    "\n",
    "#Book content handling (without stopwords)\n",
    "tknzr = TweetTokenizer()\n",
    "book_list=['puck-of-pooks-hill.txt','man-who-would-be-king.txt','kim.txt','just-so-stories.txt',\\\n",
    "           'jungle-book.txt','ginger-pickles.txt','jeremy-fisher.txt','squirrel-nutkin.txt',\\\n",
    "           'benjamin-bunny.txt','peter-rabbit.txt']\n",
    "bk_list={}\n",
    "for i in book_list:\n",
    "    b_k=[]\n",
    "    with open(i) as book:\n",
    "        book=csv.reader(book)\n",
    "        bk=list(book)\n",
    "        for j in bk:\n",
    "            for k in j:\n",
    "                word=tknzr.tokenize(k.strip())\n",
    "                for l in word:\n",
    "                    if l not in stopword:\n",
    "                        b_k.append(l)\n",
    "    bk_list[i]=b_k\n",
    "\n",
    "\n",
    "#Computinging statistics for each book\n",
    "ploarity_dict={}\n",
    "subjectivity_dict={}\n",
    "word_ct_dict={}\n",
    "freq_dict={}\n",
    "normalised_dict={}\n",
    "tf_dict={}\n",
    "\n",
    "for i in book_list:\n",
    "    with open(i,'r') as file:\n",
    "        files=file.read()\n",
    "    file.close()\n",
    "    blob=TextBlob(files)\n",
    "    #(a) ploar\n",
    "    ploarity_dict[i]=round(blob.sentiment.polarity,5)\n",
    "    #(b) subjectivity\n",
    "    subjectivity_dict[i]=round(blob.sentiment.subjectivity,5)\n",
    "    #(c) word count \n",
    "    word_ct_dict[i]=len(bk_list[i])\n",
    "    #(d) most frequent term (word)\n",
    "    #(e) normalised frequency of most frequent word\n",
    "    #(f) term frequency\n",
    "    TOP_MOST =1\n",
    "    words = {}\n",
    "    for w in blob.word_counts:\n",
    "        if (w not in stopword and (w!= '‘') and (w != '”')):\n",
    "            words[w] = blob.word_counts[w]\n",
    "    sorted_words = sorted( words, key=words.__getitem__, reverse=True )\n",
    "    for ( j, w ) in zip( range( TOP_MOST ), sorted_words ):\n",
    "        freq_dict[i]=w\n",
    "        normalised_dict[i]=round(blob.word_counts[w]/word_ct_dict[i],5)\n",
    "        tf_dict[i]=round(blob.word_counts[w]/len(sorted_words),5)\n",
    "\n",
    "#(g) inverse document frequency\n",
    "#corpus\n",
    "corpus=[]\n",
    "for i in book_list:\n",
    "    with open(i,'r') as file:\n",
    "        files=file.read()\n",
    "        corpus.append(files)\n",
    "    file.close()\n",
    "\n",
    "#vocabulary\n",
    "vocabulary=[]\n",
    "for i in freq_dict:\n",
    "    vocabulary.append(freq_dict[i])\n",
    "vocabulary=list(set(vocabulary))\n",
    "pipe = Pipeline([('count', CountVectorizer(vocabulary=vocabulary)),('tfid', TfidfTransformer())]).fit(corpus)\n",
    "idf=list(pipe['tfid'].idf_)\n",
    "voc=pipe['count'].vocabulary\n",
    "\n",
    "#idf_dictionary\n",
    "sum_idf={}\n",
    "for i in range(len(voc)):\n",
    "    sum_idf[voc[i]]=idf[i]\n",
    "\n",
    "#idf with files\n",
    "idf_dict={}\n",
    "for i in freq_dict:\n",
    "    idf_dict[i]=round(sum_idf.get(freq_dict[i]),5)   \n",
    "    \n",
    "#(h) TF-IDF\n",
    "tf_idf_dict={}\n",
    "for i in tf_dict:\n",
    "    tf_idf=tf_dict[i]*idf_dict[i]\n",
    "    tf_idf_dict[i]=round(tf_idf,5)\n",
    "    \n",
    "#Table\n",
    "table_data={}\n",
    "for i in book_list:\n",
    "    data=[ploarity_dict[i],subjectivity_dict[i],word_ct_dict[i],freq_dict[i],normalised_dict[i],tf_dict[i],idf_dict[i],tf_idf_dict[i]]\n",
    "    table_data[i]=data\n",
    "index_name=['Polarity','Subjectivity','Word Count','Most Frequent Word','Normalised Frequency','TF','IDF','TF-IDF']\n",
    "df=pd.DataFrame(table_data,index=index_name)"
   ]
  },
  {
   "cell_type": "code",
   "execution_count": 14,
   "metadata": {},
   "outputs": [
    {
     "data": {
      "text/html": [
       "<div>\n",
       "<style scoped>\n",
       "    .dataframe tbody tr th:only-of-type {\n",
       "        vertical-align: middle;\n",
       "    }\n",
       "\n",
       "    .dataframe tbody tr th {\n",
       "        vertical-align: top;\n",
       "    }\n",
       "\n",
       "    .dataframe thead th {\n",
       "        text-align: right;\n",
       "    }\n",
       "</style>\n",
       "<table border=\"1\" class=\"dataframe\">\n",
       "  <thead>\n",
       "    <tr style=\"text-align: right;\">\n",
       "      <th></th>\n",
       "      <th>puck-of-pooks-hill.txt</th>\n",
       "      <th>man-who-would-be-king.txt</th>\n",
       "      <th>kim.txt</th>\n",
       "      <th>just-so-stories.txt</th>\n",
       "      <th>jungle-book.txt</th>\n",
       "      <th>ginger-pickles.txt</th>\n",
       "      <th>jeremy-fisher.txt</th>\n",
       "      <th>squirrel-nutkin.txt</th>\n",
       "      <th>benjamin-bunny.txt</th>\n",
       "      <th>peter-rabbit.txt</th>\n",
       "    </tr>\n",
       "  </thead>\n",
       "  <tbody>\n",
       "    <tr>\n",
       "      <td>Polarity</td>\n",
       "      <td>0.08995</td>\n",
       "      <td>0.06882</td>\n",
       "      <td>0.08163</td>\n",
       "      <td>0.15515</td>\n",
       "      <td>0.04044</td>\n",
       "      <td>0.08572</td>\n",
       "      <td>0.09007</td>\n",
       "      <td>0.08617</td>\n",
       "      <td>0.08636</td>\n",
       "      <td>0.08891</td>\n",
       "    </tr>\n",
       "    <tr>\n",
       "      <td>Subjectivity</td>\n",
       "      <td>0.45835</td>\n",
       "      <td>0.42837</td>\n",
       "      <td>0.47186</td>\n",
       "      <td>0.48981</td>\n",
       "      <td>0.45159</td>\n",
       "      <td>0.42321</td>\n",
       "      <td>0.41469</td>\n",
       "      <td>0.37232</td>\n",
       "      <td>0.38747</td>\n",
       "      <td>0.40154</td>\n",
       "    </tr>\n",
       "    <tr>\n",
       "      <td>Word Count</td>\n",
       "      <td>28394</td>\n",
       "      <td>8067</td>\n",
       "      <td>50776</td>\n",
       "      <td>14903</td>\n",
       "      <td>24682</td>\n",
       "      <td>2470</td>\n",
       "      <td>2229</td>\n",
       "      <td>2542</td>\n",
       "      <td>2402</td>\n",
       "      <td>2314</td>\n",
       "    </tr>\n",
       "    <tr>\n",
       "      <td>Most Frequent Word</td>\n",
       "      <td>men</td>\n",
       "      <td>dravot</td>\n",
       "      <td>kim</td>\n",
       "      <td>wild</td>\n",
       "      <td>mowgli</td>\n",
       "      <td>project</td>\n",
       "      <td>project</td>\n",
       "      <td>project</td>\n",
       "      <td>project</td>\n",
       "      <td>project</td>\n",
       "    </tr>\n",
       "    <tr>\n",
       "      <td>Normalised Frequency</td>\n",
       "      <td>0.00606</td>\n",
       "      <td>0.01103</td>\n",
       "      <td>0.01743</td>\n",
       "      <td>0.00698</td>\n",
       "      <td>0.00891</td>\n",
       "      <td>0.03482</td>\n",
       "      <td>0.03858</td>\n",
       "      <td>0.03423</td>\n",
       "      <td>0.03622</td>\n",
       "      <td>0.0376</td>\n",
       "    </tr>\n",
       "    <tr>\n",
       "      <td>TF</td>\n",
       "      <td>0.02904</td>\n",
       "      <td>0.03381</td>\n",
       "      <td>0.08931</td>\n",
       "      <td>0.03408</td>\n",
       "      <td>0.04647</td>\n",
       "      <td>0.10424</td>\n",
       "      <td>0.1114</td>\n",
       "      <td>0.10284</td>\n",
       "      <td>0.11111</td>\n",
       "      <td>0.11027</td>\n",
       "    </tr>\n",
       "    <tr>\n",
       "      <td>IDF</td>\n",
       "      <td>1.31845</td>\n",
       "      <td>2.70475</td>\n",
       "      <td>2.70475</td>\n",
       "      <td>1.45199</td>\n",
       "      <td>2.70475</td>\n",
       "      <td>1</td>\n",
       "      <td>1</td>\n",
       "      <td>1</td>\n",
       "      <td>1</td>\n",
       "      <td>1</td>\n",
       "    </tr>\n",
       "    <tr>\n",
       "      <td>TF-IDF</td>\n",
       "      <td>0.03829</td>\n",
       "      <td>0.09145</td>\n",
       "      <td>0.24156</td>\n",
       "      <td>0.04948</td>\n",
       "      <td>0.12569</td>\n",
       "      <td>0.10424</td>\n",
       "      <td>0.1114</td>\n",
       "      <td>0.10284</td>\n",
       "      <td>0.11111</td>\n",
       "      <td>0.11027</td>\n",
       "    </tr>\n",
       "  </tbody>\n",
       "</table>\n",
       "</div>"
      ],
      "text/plain": [
       "                     puck-of-pooks-hill.txt man-who-would-be-king.txt  \\\n",
       "Polarity                            0.08995                   0.06882   \n",
       "Subjectivity                        0.45835                   0.42837   \n",
       "Word Count                            28394                      8067   \n",
       "Most Frequent Word                      men                    dravot   \n",
       "Normalised Frequency                0.00606                   0.01103   \n",
       "TF                                  0.02904                   0.03381   \n",
       "IDF                                 1.31845                   2.70475   \n",
       "TF-IDF                              0.03829                   0.09145   \n",
       "\n",
       "                      kim.txt just-so-stories.txt jungle-book.txt  \\\n",
       "Polarity              0.08163             0.15515         0.04044   \n",
       "Subjectivity          0.47186             0.48981         0.45159   \n",
       "Word Count              50776               14903           24682   \n",
       "Most Frequent Word        kim                wild          mowgli   \n",
       "Normalised Frequency  0.01743             0.00698         0.00891   \n",
       "TF                    0.08931             0.03408         0.04647   \n",
       "IDF                   2.70475             1.45199         2.70475   \n",
       "TF-IDF                0.24156             0.04948         0.12569   \n",
       "\n",
       "                     ginger-pickles.txt jeremy-fisher.txt squirrel-nutkin.txt  \\\n",
       "Polarity                        0.08572           0.09007             0.08617   \n",
       "Subjectivity                    0.42321           0.41469             0.37232   \n",
       "Word Count                         2470              2229                2542   \n",
       "Most Frequent Word              project           project             project   \n",
       "Normalised Frequency            0.03482           0.03858             0.03423   \n",
       "TF                              0.10424            0.1114             0.10284   \n",
       "IDF                                   1                 1                   1   \n",
       "TF-IDF                          0.10424            0.1114             0.10284   \n",
       "\n",
       "                     benjamin-bunny.txt peter-rabbit.txt  \n",
       "Polarity                        0.08636          0.08891  \n",
       "Subjectivity                    0.38747          0.40154  \n",
       "Word Count                         2402             2314  \n",
       "Most Frequent Word              project          project  \n",
       "Normalised Frequency            0.03622           0.0376  \n",
       "TF                              0.11111          0.11027  \n",
       "IDF                                   1                1  \n",
       "TF-IDF                          0.11111          0.11027  "
      ]
     },
     "execution_count": 14,
     "metadata": {},
     "output_type": "execute_result"
    }
   ],
   "source": [
    "df"
   ]
  },
  {
   "cell_type": "code",
   "execution_count": 15,
   "metadata": {},
   "outputs": [
    {
     "data": {
      "text/plain": [
       "',puck-of-pooks-hill.txt,man-who-would-be-king.txt,kim.txt,just-so-stories.txt,jungle-book.txt,ginger-pickles.txt,jeremy-fisher.txt,squirrel-nutkin.txt,benjamin-bunny.txt,peter-rabbit.txt\\nPolarity,0.08995,0.06882,0.08163,0.15515,0.04044,0.08572,0.09007,0.08617,0.08636,0.08891\\nSubjectivity,0.45835,0.42837,0.47186,0.48981,0.45159,0.42321,0.41469,0.37232,0.38747,0.40154\\nWord Count,28394,8067,50776,14903,24682,2470,2229,2542,2402,2314\\nMost Frequent Word,men,dravot,kim,wild,mowgli,project,project,project,project,project\\nNormalised Frequency,0.00606,0.01103,0.01743,0.00698,0.00891,0.03482,0.03858,0.03423,0.03622,0.0376\\nTF,0.02904,0.03381,0.08931,0.03408,0.04647,0.10424,0.1114,0.10284,0.11111,0.11027\\nIDF,1.31845,2.70475,2.70475,1.45199,2.70475,1.0,1.0,1.0,1.0,1.0\\nTF-IDF,0.03829,0.09145,0.24156,0.04948,0.12569,0.10424,0.1114,0.10284,0.11111,0.11027\\n'"
      ]
     },
     "execution_count": 15,
     "metadata": {},
     "output_type": "execute_result"
    }
   ],
   "source": [
    "df.to_csv()"
   ]
  },
  {
   "cell_type": "code",
   "execution_count": 38,
   "metadata": {},
   "outputs": [],
   "source": [
    "pipe = Pipeline([('count', CountVectorizer(vocabulary=vocabulary)),('tfid', TfidfTransformer())]).fit(corpus)"
   ]
  },
  {
   "cell_type": "code",
   "execution_count": 37,
   "metadata": {},
   "outputs": [
    {
     "ename": "AttributeError",
     "evalue": "'numpy.ndarray' object has no attribute 'lower'",
     "output_type": "error",
     "traceback": [
      "\u001b[0;31m---------------------------------------------------------------------------\u001b[0m",
      "\u001b[0;31mAttributeError\u001b[0m                            Traceback (most recent call last)",
      "\u001b[0;32m<ipython-input-37-63d7c665a935>\u001b[0m in \u001b[0;36m<module>\u001b[0;34m\u001b[0m\n\u001b[1;32m     11\u001b[0m         'Beatrix Potter','Beatrix Potter','Beatrix Potter','Beatrix Potter','Beatrix Potter']\n\u001b[1;32m     12\u001b[0m \u001b[0my\u001b[0m\u001b[0;34m=\u001b[0m\u001b[0mnp\u001b[0m\u001b[0;34m.\u001b[0m\u001b[0marray\u001b[0m\u001b[0;34m(\u001b[0m\u001b[0my_list\u001b[0m\u001b[0;34m)\u001b[0m\u001b[0;34m.\u001b[0m\u001b[0mreshape\u001b[0m\u001b[0;34m(\u001b[0m\u001b[0;34m(\u001b[0m\u001b[0;36m10\u001b[0m\u001b[0;34m,\u001b[0m \u001b[0;36m1\u001b[0m\u001b[0;34m)\u001b[0m\u001b[0;34m)\u001b[0m\u001b[0;34m\u001b[0m\u001b[0;34m\u001b[0m\u001b[0m\n\u001b[0;32m---> 13\u001b[0;31m \u001b[0mpipe\u001b[0m\u001b[0;34m=\u001b[0m \u001b[0mpipe\u001b[0m\u001b[0;34m.\u001b[0m\u001b[0mfit\u001b[0m\u001b[0;34m(\u001b[0m\u001b[0mX\u001b[0m\u001b[0;34m,\u001b[0m \u001b[0my\u001b[0m\u001b[0;34m)\u001b[0m\u001b[0;34m\u001b[0m\u001b[0;34m\u001b[0m\u001b[0m\n\u001b[0m",
      "\u001b[0;32m/opt/anaconda3/lib/python3.7/site-packages/sklearn/pipeline.py\u001b[0m in \u001b[0;36mfit\u001b[0;34m(self, X, y, **fit_params)\u001b[0m\n\u001b[1;32m    350\u001b[0m             \u001b[0mThis\u001b[0m \u001b[0mestimator\u001b[0m\u001b[0;34m\u001b[0m\u001b[0;34m\u001b[0m\u001b[0m\n\u001b[1;32m    351\u001b[0m         \"\"\"\n\u001b[0;32m--> 352\u001b[0;31m         \u001b[0mXt\u001b[0m\u001b[0;34m,\u001b[0m \u001b[0mfit_params\u001b[0m \u001b[0;34m=\u001b[0m \u001b[0mself\u001b[0m\u001b[0;34m.\u001b[0m\u001b[0m_fit\u001b[0m\u001b[0;34m(\u001b[0m\u001b[0mX\u001b[0m\u001b[0;34m,\u001b[0m \u001b[0my\u001b[0m\u001b[0;34m,\u001b[0m \u001b[0;34m**\u001b[0m\u001b[0mfit_params\u001b[0m\u001b[0;34m)\u001b[0m\u001b[0;34m\u001b[0m\u001b[0;34m\u001b[0m\u001b[0m\n\u001b[0m\u001b[1;32m    353\u001b[0m         with _print_elapsed_time('Pipeline',\n\u001b[1;32m    354\u001b[0m                                  self._log_message(len(self.steps) - 1)):\n",
      "\u001b[0;32m/opt/anaconda3/lib/python3.7/site-packages/sklearn/pipeline.py\u001b[0m in \u001b[0;36m_fit\u001b[0;34m(self, X, y, **fit_params)\u001b[0m\n\u001b[1;32m    315\u001b[0m                 \u001b[0mmessage_clsname\u001b[0m\u001b[0;34m=\u001b[0m\u001b[0;34m'Pipeline'\u001b[0m\u001b[0;34m,\u001b[0m\u001b[0;34m\u001b[0m\u001b[0;34m\u001b[0m\u001b[0m\n\u001b[1;32m    316\u001b[0m                 \u001b[0mmessage\u001b[0m\u001b[0;34m=\u001b[0m\u001b[0mself\u001b[0m\u001b[0;34m.\u001b[0m\u001b[0m_log_message\u001b[0m\u001b[0;34m(\u001b[0m\u001b[0mstep_idx\u001b[0m\u001b[0;34m)\u001b[0m\u001b[0;34m,\u001b[0m\u001b[0;34m\u001b[0m\u001b[0;34m\u001b[0m\u001b[0m\n\u001b[0;32m--> 317\u001b[0;31m                 **fit_params_steps[name])\n\u001b[0m\u001b[1;32m    318\u001b[0m             \u001b[0;31m# Replace the transformer of the step with the fitted\u001b[0m\u001b[0;34m\u001b[0m\u001b[0;34m\u001b[0m\u001b[0;34m\u001b[0m\u001b[0m\n\u001b[1;32m    319\u001b[0m             \u001b[0;31m# transformer. This is necessary when loading the transformer\u001b[0m\u001b[0;34m\u001b[0m\u001b[0;34m\u001b[0m\u001b[0;34m\u001b[0m\u001b[0m\n",
      "\u001b[0;32m/opt/anaconda3/lib/python3.7/site-packages/joblib/memory.py\u001b[0m in \u001b[0;36m__call__\u001b[0;34m(self, *args, **kwargs)\u001b[0m\n\u001b[1;32m    353\u001b[0m \u001b[0;34m\u001b[0m\u001b[0m\n\u001b[1;32m    354\u001b[0m     \u001b[0;32mdef\u001b[0m \u001b[0m__call__\u001b[0m\u001b[0;34m(\u001b[0m\u001b[0mself\u001b[0m\u001b[0;34m,\u001b[0m \u001b[0;34m*\u001b[0m\u001b[0margs\u001b[0m\u001b[0;34m,\u001b[0m \u001b[0;34m**\u001b[0m\u001b[0mkwargs\u001b[0m\u001b[0;34m)\u001b[0m\u001b[0;34m:\u001b[0m\u001b[0;34m\u001b[0m\u001b[0;34m\u001b[0m\u001b[0m\n\u001b[0;32m--> 355\u001b[0;31m         \u001b[0;32mreturn\u001b[0m \u001b[0mself\u001b[0m\u001b[0;34m.\u001b[0m\u001b[0mfunc\u001b[0m\u001b[0;34m(\u001b[0m\u001b[0;34m*\u001b[0m\u001b[0margs\u001b[0m\u001b[0;34m,\u001b[0m \u001b[0;34m**\u001b[0m\u001b[0mkwargs\u001b[0m\u001b[0;34m)\u001b[0m\u001b[0;34m\u001b[0m\u001b[0;34m\u001b[0m\u001b[0m\n\u001b[0m\u001b[1;32m    356\u001b[0m \u001b[0;34m\u001b[0m\u001b[0m\n\u001b[1;32m    357\u001b[0m     \u001b[0;32mdef\u001b[0m \u001b[0mcall_and_shelve\u001b[0m\u001b[0;34m(\u001b[0m\u001b[0mself\u001b[0m\u001b[0;34m,\u001b[0m \u001b[0;34m*\u001b[0m\u001b[0margs\u001b[0m\u001b[0;34m,\u001b[0m \u001b[0;34m**\u001b[0m\u001b[0mkwargs\u001b[0m\u001b[0;34m)\u001b[0m\u001b[0;34m:\u001b[0m\u001b[0;34m\u001b[0m\u001b[0;34m\u001b[0m\u001b[0m\n",
      "\u001b[0;32m/opt/anaconda3/lib/python3.7/site-packages/sklearn/pipeline.py\u001b[0m in \u001b[0;36m_fit_transform_one\u001b[0;34m(transformer, X, y, weight, message_clsname, message, **fit_params)\u001b[0m\n\u001b[1;32m    714\u001b[0m     \u001b[0;32mwith\u001b[0m \u001b[0m_print_elapsed_time\u001b[0m\u001b[0;34m(\u001b[0m\u001b[0mmessage_clsname\u001b[0m\u001b[0;34m,\u001b[0m \u001b[0mmessage\u001b[0m\u001b[0;34m)\u001b[0m\u001b[0;34m:\u001b[0m\u001b[0;34m\u001b[0m\u001b[0;34m\u001b[0m\u001b[0m\n\u001b[1;32m    715\u001b[0m         \u001b[0;32mif\u001b[0m \u001b[0mhasattr\u001b[0m\u001b[0;34m(\u001b[0m\u001b[0mtransformer\u001b[0m\u001b[0;34m,\u001b[0m \u001b[0;34m'fit_transform'\u001b[0m\u001b[0;34m)\u001b[0m\u001b[0;34m:\u001b[0m\u001b[0;34m\u001b[0m\u001b[0;34m\u001b[0m\u001b[0m\n\u001b[0;32m--> 716\u001b[0;31m             \u001b[0mres\u001b[0m \u001b[0;34m=\u001b[0m \u001b[0mtransformer\u001b[0m\u001b[0;34m.\u001b[0m\u001b[0mfit_transform\u001b[0m\u001b[0;34m(\u001b[0m\u001b[0mX\u001b[0m\u001b[0;34m,\u001b[0m \u001b[0my\u001b[0m\u001b[0;34m,\u001b[0m \u001b[0;34m**\u001b[0m\u001b[0mfit_params\u001b[0m\u001b[0;34m)\u001b[0m\u001b[0;34m\u001b[0m\u001b[0;34m\u001b[0m\u001b[0m\n\u001b[0m\u001b[1;32m    717\u001b[0m         \u001b[0;32melse\u001b[0m\u001b[0;34m:\u001b[0m\u001b[0;34m\u001b[0m\u001b[0;34m\u001b[0m\u001b[0m\n\u001b[1;32m    718\u001b[0m             \u001b[0mres\u001b[0m \u001b[0;34m=\u001b[0m \u001b[0mtransformer\u001b[0m\u001b[0;34m.\u001b[0m\u001b[0mfit\u001b[0m\u001b[0;34m(\u001b[0m\u001b[0mX\u001b[0m\u001b[0;34m,\u001b[0m \u001b[0my\u001b[0m\u001b[0;34m,\u001b[0m \u001b[0;34m**\u001b[0m\u001b[0mfit_params\u001b[0m\u001b[0;34m)\u001b[0m\u001b[0;34m.\u001b[0m\u001b[0mtransform\u001b[0m\u001b[0;34m(\u001b[0m\u001b[0mX\u001b[0m\u001b[0;34m)\u001b[0m\u001b[0;34m\u001b[0m\u001b[0;34m\u001b[0m\u001b[0m\n",
      "\u001b[0;32m/opt/anaconda3/lib/python3.7/site-packages/sklearn/feature_extraction/text.py\u001b[0m in \u001b[0;36mfit_transform\u001b[0;34m(self, raw_documents, y)\u001b[0m\n\u001b[1;32m   1056\u001b[0m \u001b[0;34m\u001b[0m\u001b[0m\n\u001b[1;32m   1057\u001b[0m         vocabulary, X = self._count_vocab(raw_documents,\n\u001b[0;32m-> 1058\u001b[0;31m                                           self.fixed_vocabulary_)\n\u001b[0m\u001b[1;32m   1059\u001b[0m \u001b[0;34m\u001b[0m\u001b[0m\n\u001b[1;32m   1060\u001b[0m         \u001b[0;32mif\u001b[0m \u001b[0mself\u001b[0m\u001b[0;34m.\u001b[0m\u001b[0mbinary\u001b[0m\u001b[0;34m:\u001b[0m\u001b[0;34m\u001b[0m\u001b[0;34m\u001b[0m\u001b[0m\n",
      "\u001b[0;32m/opt/anaconda3/lib/python3.7/site-packages/sklearn/feature_extraction/text.py\u001b[0m in \u001b[0;36m_count_vocab\u001b[0;34m(self, raw_documents, fixed_vocab)\u001b[0m\n\u001b[1;32m    968\u001b[0m         \u001b[0;32mfor\u001b[0m \u001b[0mdoc\u001b[0m \u001b[0;32min\u001b[0m \u001b[0mraw_documents\u001b[0m\u001b[0;34m:\u001b[0m\u001b[0;34m\u001b[0m\u001b[0;34m\u001b[0m\u001b[0m\n\u001b[1;32m    969\u001b[0m             \u001b[0mfeature_counter\u001b[0m \u001b[0;34m=\u001b[0m \u001b[0;34m{\u001b[0m\u001b[0;34m}\u001b[0m\u001b[0;34m\u001b[0m\u001b[0;34m\u001b[0m\u001b[0m\n\u001b[0;32m--> 970\u001b[0;31m             \u001b[0;32mfor\u001b[0m \u001b[0mfeature\u001b[0m \u001b[0;32min\u001b[0m \u001b[0manalyze\u001b[0m\u001b[0;34m(\u001b[0m\u001b[0mdoc\u001b[0m\u001b[0;34m)\u001b[0m\u001b[0;34m:\u001b[0m\u001b[0;34m\u001b[0m\u001b[0;34m\u001b[0m\u001b[0m\n\u001b[0m\u001b[1;32m    971\u001b[0m                 \u001b[0;32mtry\u001b[0m\u001b[0;34m:\u001b[0m\u001b[0;34m\u001b[0m\u001b[0;34m\u001b[0m\u001b[0m\n\u001b[1;32m    972\u001b[0m                     \u001b[0mfeature_idx\u001b[0m \u001b[0;34m=\u001b[0m \u001b[0mvocabulary\u001b[0m\u001b[0;34m[\u001b[0m\u001b[0mfeature\u001b[0m\u001b[0;34m]\u001b[0m\u001b[0;34m\u001b[0m\u001b[0;34m\u001b[0m\u001b[0m\n",
      "\u001b[0;32m/opt/anaconda3/lib/python3.7/site-packages/sklearn/feature_extraction/text.py\u001b[0m in \u001b[0;36m<lambda>\u001b[0;34m(doc)\u001b[0m\n\u001b[1;32m    350\u001b[0m                                                tokenize)\n\u001b[1;32m    351\u001b[0m             return lambda doc: self._word_ngrams(\n\u001b[0;32m--> 352\u001b[0;31m                 tokenize(preprocess(self.decode(doc))), stop_words)\n\u001b[0m\u001b[1;32m    353\u001b[0m \u001b[0;34m\u001b[0m\u001b[0m\n\u001b[1;32m    354\u001b[0m         \u001b[0;32melse\u001b[0m\u001b[0;34m:\u001b[0m\u001b[0;34m\u001b[0m\u001b[0;34m\u001b[0m\u001b[0m\n",
      "\u001b[0;32m/opt/anaconda3/lib/python3.7/site-packages/sklearn/feature_extraction/text.py\u001b[0m in \u001b[0;36m<lambda>\u001b[0;34m(x)\u001b[0m\n\u001b[1;32m    254\u001b[0m \u001b[0;34m\u001b[0m\u001b[0m\n\u001b[1;32m    255\u001b[0m         \u001b[0;32mif\u001b[0m \u001b[0mself\u001b[0m\u001b[0;34m.\u001b[0m\u001b[0mlowercase\u001b[0m\u001b[0;34m:\u001b[0m\u001b[0;34m\u001b[0m\u001b[0;34m\u001b[0m\u001b[0m\n\u001b[0;32m--> 256\u001b[0;31m             \u001b[0;32mreturn\u001b[0m \u001b[0;32mlambda\u001b[0m \u001b[0mx\u001b[0m\u001b[0;34m:\u001b[0m \u001b[0mstrip_accents\u001b[0m\u001b[0;34m(\u001b[0m\u001b[0mx\u001b[0m\u001b[0;34m.\u001b[0m\u001b[0mlower\u001b[0m\u001b[0;34m(\u001b[0m\u001b[0;34m)\u001b[0m\u001b[0;34m)\u001b[0m\u001b[0;34m\u001b[0m\u001b[0;34m\u001b[0m\u001b[0m\n\u001b[0m\u001b[1;32m    257\u001b[0m         \u001b[0;32melse\u001b[0m\u001b[0;34m:\u001b[0m\u001b[0;34m\u001b[0m\u001b[0;34m\u001b[0m\u001b[0m\n\u001b[1;32m    258\u001b[0m             \u001b[0;32mreturn\u001b[0m \u001b[0mstrip_accents\u001b[0m\u001b[0;34m\u001b[0m\u001b[0;34m\u001b[0m\u001b[0m\n",
      "\u001b[0;31mAttributeError\u001b[0m: 'numpy.ndarray' object has no attribute 'lower'"
     ]
    }
   ],
   "source": [
    "#pipe=text_clf\n",
    "X_list=[]\n",
    "for i in index_name:\n",
    "    X_list.append(df.loc[i])\n",
    "X=np.array(X_list)\n",
    "\n",
    "book_list=['puck-of-pooks-hill.txt','man-who-would-be-king.txt','kim.txt','just-so-stories.txt',\\\n",
    "           'jungle-book.txt','ginger-pickles.txt','jeremy-fisher.txt','squirrel-nutkin.txt',\\\n",
    "           'benjamin-bunny.txt','peter-rabbit.txt']\n",
    "y_list=['Rudyard Kipling','Rudyard Kipling','Rudyard Kipling','Rudyard Kipling','Rudyard Kipling',\\\n",
    "        'Beatrix Potter','Beatrix Potter','Beatrix Potter','Beatrix Potter','Beatrix Potter']\n",
    "y=np.array(y_list).reshape((10, 1))\n",
    "pipe= pipe.fit(X, y)\n"
   ]
  },
  {
   "cell_type": "code",
   "execution_count": 20,
   "metadata": {},
   "outputs": [],
   "source": [
    "df1=pd.DataFrame(table_data)\n",
    "df2=df1.stack()"
   ]
  },
  {
   "cell_type": "code",
   "execution_count": 22,
   "metadata": {},
   "outputs": [
    {
     "data": {
      "text/plain": [
       "{'puck-of-pooks-hill.txt': [0.08995,\n",
       "  0.45835,\n",
       "  28394,\n",
       "  'men',\n",
       "  0.00606,\n",
       "  0.02904,\n",
       "  1.31845,\n",
       "  0.03829],\n",
       " 'man-who-would-be-king.txt': [0.06882,\n",
       "  0.42837,\n",
       "  8067,\n",
       "  'dravot',\n",
       "  0.01103,\n",
       "  0.03381,\n",
       "  2.70475,\n",
       "  0.09145],\n",
       " 'kim.txt': [0.08163,\n",
       "  0.47186,\n",
       "  50776,\n",
       "  'kim',\n",
       "  0.01743,\n",
       "  0.08931,\n",
       "  2.70475,\n",
       "  0.24156],\n",
       " 'just-so-stories.txt': [0.15515,\n",
       "  0.48981,\n",
       "  14903,\n",
       "  'wild',\n",
       "  0.00698,\n",
       "  0.03408,\n",
       "  1.45199,\n",
       "  0.04948],\n",
       " 'jungle-book.txt': [0.04044,\n",
       "  0.45159,\n",
       "  24682,\n",
       "  'mowgli',\n",
       "  0.00891,\n",
       "  0.04647,\n",
       "  2.70475,\n",
       "  0.12569],\n",
       " 'ginger-pickles.txt': [0.08572,\n",
       "  0.42321,\n",
       "  2470,\n",
       "  'project',\n",
       "  0.03482,\n",
       "  0.10424,\n",
       "  1.0,\n",
       "  0.10424],\n",
       " 'jeremy-fisher.txt': [0.09007,\n",
       "  0.41469,\n",
       "  2229,\n",
       "  'project',\n",
       "  0.03858,\n",
       "  0.1114,\n",
       "  1.0,\n",
       "  0.1114],\n",
       " 'squirrel-nutkin.txt': [0.08617,\n",
       "  0.37232,\n",
       "  2542,\n",
       "  'project',\n",
       "  0.03423,\n",
       "  0.10284,\n",
       "  1.0,\n",
       "  0.10284],\n",
       " 'benjamin-bunny.txt': [0.08636,\n",
       "  0.38747,\n",
       "  2402,\n",
       "  'project',\n",
       "  0.03622,\n",
       "  0.11111,\n",
       "  1.0,\n",
       "  0.11111],\n",
       " 'peter-rabbit.txt': [0.08891,\n",
       "  0.40154,\n",
       "  2314,\n",
       "  'project',\n",
       "  0.0376,\n",
       "  0.11027,\n",
       "  1.0,\n",
       "  0.11027]}"
      ]
     },
     "execution_count": 22,
     "metadata": {},
     "output_type": "execute_result"
    }
   ],
   "source": [
    "table_data"
   ]
  },
  {
   "cell_type": "code",
   "execution_count": 39,
   "metadata": {},
   "outputs": [
    {
     "ename": "ModuleNotFoundError",
     "evalue": "No module named 'cv2'",
     "output_type": "error",
     "traceback": [
      "\u001b[0;31m---------------------------------------------------------------------------\u001b[0m",
      "\u001b[0;31mModuleNotFoundError\u001b[0m                       Traceback (most recent call last)",
      "\u001b[0;32m<ipython-input-39-c8ec22b3e787>\u001b[0m in \u001b[0;36m<module>\u001b[0;34m\u001b[0m\n\u001b[0;32m----> 1\u001b[0;31m \u001b[0;32mimport\u001b[0m \u001b[0mcv2\u001b[0m\u001b[0;34m\u001b[0m\u001b[0;34m\u001b[0m\u001b[0m\n\u001b[0m",
      "\u001b[0;31mModuleNotFoundError\u001b[0m: No module named 'cv2'"
     ]
    }
   ],
   "source": [
    "import cv2"
   ]
  },
  {
   "cell_type": "code",
   "execution_count": null,
   "metadata": {},
   "outputs": [],
   "source": []
  }
 ],
 "metadata": {
  "kernelspec": {
   "display_name": "Python 3",
   "language": "python",
   "name": "python3"
  },
  "language_info": {
   "codemirror_mode": {
    "name": "ipython",
    "version": 3
   },
   "file_extension": ".py",
   "mimetype": "text/x-python",
   "name": "python",
   "nbconvert_exporter": "python",
   "pygments_lexer": "ipython3",
   "version": "3.7.6"
  }
 },
 "nbformat": 4,
 "nbformat_minor": 2
}
