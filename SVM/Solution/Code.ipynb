{
 "cells": [
  {
   "cell_type": "code",
   "execution_count": 1,
   "metadata": {},
   "outputs": [],
   "source": [
    "s1=1\n",
    "s2=9\n",
    "s3=0\n",
    "s4=5\n",
    "s5=6\n",
    "s6=6\n",
    "s7=7"
   ]
  },
  {
   "cell_type": "code",
   "execution_count": 2,
   "metadata": {},
   "outputs": [],
   "source": [
    "R=4"
   ]
  },
  {
   "cell_type": "code",
   "execution_count": null,
   "metadata": {},
   "outputs": [],
   "source": [
    "import numpy as np\n",
    "Class=np.random.choice(10,12)"
   ]
  },
  {
   "cell_type": "code",
   "execution_count": 18,
   "metadata": {},
   "outputs": [],
   "source": [
    "Class_1=[]\n",
    "for i in Class:\n",
    "    if i > 5:\n",
    "        Class_1.append(\"Cat\")\n",
    "    else:\n",
    "        Class_1.append(\"Dog\")"
   ]
  },
  {
   "cell_type": "code",
   "execution_count": 23,
   "metadata": {},
   "outputs": [],
   "source": [
    "Class_2=[]\n",
    "for i in Class:\n",
    "    if i > 3:\n",
    "        Class_2.append(\"A\")\n",
    "    else:\n",
    "        Class_2.append(\"B\")"
   ]
  },
  {
   "cell_type": "code",
   "execution_count": 19,
   "metadata": {},
   "outputs": [],
   "source": [
    "Class_3=[]\n",
    "for i in Class:\n",
    "    if i > np.average(Class):\n",
    "        Class_3.append(150)\n",
    "    else:\n",
    "        Class_3.append(100)"
   ]
  },
  {
   "cell_type": "code",
   "execution_count": 33,
   "metadata": {},
   "outputs": [],
   "source": [
    "import pandas as pd\n",
    "Data=np.array([Class_1, Class_2, Class_3])\n",
    "Data=np.transpose(Data)\n",
    "Dataset=pd.DataFrame(Data, columns=[\"Class 1\", \"Class 2\", \"Class 3\"])"
   ]
  },
  {
   "cell_type": "code",
   "execution_count": 34,
   "metadata": {},
   "outputs": [
    {
     "data": {
      "text/html": [
       "<div>\n",
       "<style scoped>\n",
       "    .dataframe tbody tr th:only-of-type {\n",
       "        vertical-align: middle;\n",
       "    }\n",
       "\n",
       "    .dataframe tbody tr th {\n",
       "        vertical-align: top;\n",
       "    }\n",
       "\n",
       "    .dataframe thead th {\n",
       "        text-align: right;\n",
       "    }\n",
       "</style>\n",
       "<table border=\"1\" class=\"dataframe\">\n",
       "  <thead>\n",
       "    <tr style=\"text-align: right;\">\n",
       "      <th></th>\n",
       "      <th>Class 1</th>\n",
       "      <th>Class 2</th>\n",
       "      <th>Class 3</th>\n",
       "    </tr>\n",
       "  </thead>\n",
       "  <tbody>\n",
       "    <tr>\n",
       "      <td>0</td>\n",
       "      <td>Dog</td>\n",
       "      <td>A</td>\n",
       "      <td>150</td>\n",
       "    </tr>\n",
       "    <tr>\n",
       "      <td>1</td>\n",
       "      <td>Dog</td>\n",
       "      <td>B</td>\n",
       "      <td>100</td>\n",
       "    </tr>\n",
       "    <tr>\n",
       "      <td>2</td>\n",
       "      <td>Dog</td>\n",
       "      <td>A</td>\n",
       "      <td>150</td>\n",
       "    </tr>\n",
       "    <tr>\n",
       "      <td>3</td>\n",
       "      <td>Dog</td>\n",
       "      <td>A</td>\n",
       "      <td>100</td>\n",
       "    </tr>\n",
       "    <tr>\n",
       "      <td>4</td>\n",
       "      <td>Dog</td>\n",
       "      <td>A</td>\n",
       "      <td>100</td>\n",
       "    </tr>\n",
       "    <tr>\n",
       "      <td>5</td>\n",
       "      <td>Cat</td>\n",
       "      <td>A</td>\n",
       "      <td>150</td>\n",
       "    </tr>\n",
       "    <tr>\n",
       "      <td>6</td>\n",
       "      <td>Dog</td>\n",
       "      <td>A</td>\n",
       "      <td>150</td>\n",
       "    </tr>\n",
       "    <tr>\n",
       "      <td>7</td>\n",
       "      <td>Cat</td>\n",
       "      <td>B</td>\n",
       "      <td>100</td>\n",
       "    </tr>\n",
       "    <tr>\n",
       "      <td>8</td>\n",
       "      <td>Dog</td>\n",
       "      <td>B</td>\n",
       "      <td>100</td>\n",
       "    </tr>\n",
       "    <tr>\n",
       "      <td>9</td>\n",
       "      <td>Cat</td>\n",
       "      <td>A</td>\n",
       "      <td>150</td>\n",
       "    </tr>\n",
       "    <tr>\n",
       "      <td>10</td>\n",
       "      <td>Dog</td>\n",
       "      <td>A</td>\n",
       "      <td>150</td>\n",
       "    </tr>\n",
       "    <tr>\n",
       "      <td>11</td>\n",
       "      <td>Cat</td>\n",
       "      <td>A</td>\n",
       "      <td>150</td>\n",
       "    </tr>\n",
       "  </tbody>\n",
       "</table>\n",
       "</div>"
      ],
      "text/plain": [
       "   Class 1 Class 2 Class 3\n",
       "0      Dog       A     150\n",
       "1      Dog       B     100\n",
       "2      Dog       A     150\n",
       "3      Dog       A     100\n",
       "4      Dog       A     100\n",
       "5      Cat       A     150\n",
       "6      Dog       A     150\n",
       "7      Cat       B     100\n",
       "8      Dog       B     100\n",
       "9      Cat       A     150\n",
       "10     Dog       A     150\n",
       "11     Cat       A     150"
      ]
     },
     "execution_count": 34,
     "metadata": {},
     "output_type": "execute_result"
    }
   ],
   "source": [
    "Dataset"
   ]
  },
  {
   "cell_type": "code",
   "execution_count": 79,
   "metadata": {},
   "outputs": [
    {
     "name": "stdout",
     "output_type": "stream",
     "text": [
      "[1, 0, 6, 9, 2, 9, 0, 5, 8, 7, 7, 4]\n",
      "[2, 1, 7, 10, 3, 10, 1, 6, 9, 8, 8, 5]\n",
      "(1, 2)\n",
      "(0, 1)\n",
      "(6, 7)\n",
      "(9, 10)\n",
      "(2, 3)\n",
      "(9, 10)\n",
      "(0, 1)\n",
      "(5, 6)\n",
      "(8, 9)\n",
      "(7, 8)\n",
      "(7, 8)\n",
      "(4, 5)\n",
      "(-3, -4)\n",
      "(-5, -6)\n",
      "(4, 3)\n",
      "(1, 0)\n",
      "(3, 2)\n",
      "(-1, -2)\n",
      "(4, 3)\n",
      "(-4, -5)\n",
      "(-5, -6)\n",
      "(3, 2)\n",
      "(4, 3)\n",
      "(3, 2)\n",
      "(5, 5)\n",
      "(8, 8)\n",
      "(10, 10)\n",
      "(7, 7)\n",
      "(10, 10)\n",
      "(14, 14)\n",
      "(14, 14)\n",
      "(12, 12)\n",
      "(5, 5)\n",
      "(9, 9)\n",
      "(14, 14)\n",
      "(8, 8)\n",
      "[(1, 2), (0, 1), (6, 7), (9, 10), (2, 3), (9, 10), (0, 1), (5, 6), (8, 9), (7, 8), (7, 8), (4, 5), (-3, -4), (-5, -6), (4, 3), (1, 0), (3, 2), (-1, -2), (4, 3), (-4, -5), (-5, -6), (3, 2), (4, 3), (3, 2), (5, 5), (8, 8), (10, 10), (7, 7), (10, 10), (14, 14), (14, 14), (12, 12), (5, 5), (9, 9), (14, 14), (8, 8)]\n"
     ]
    }
   ],
   "source": [
    "#L1: x2=x1-1\n",
    "#L2: x1=5\n",
    "Dataset=[]\n",
    "\n",
    "#class 1\n",
    "x1_class1=np.random.randint(low=0, high=10,size=12)\n",
    "x2_class1=x1_class1+np.random.randint(2.)\n",
    "\n",
    "x1_class1=list(x1_class1)\n",
    "x2_class1=list(x2_class1)\n",
    "\n",
    "print(x1_class1)\n",
    "print(x2_class1)\n",
    "for i in range(len(x1_class1)):\n",
    "    data=(x1_class1[i],x2_class1[i])\n",
    "    \n",
    "    print(data)\n",
    "    Dataset.append(data)\n",
    "\n",
    "#class 2\n",
    "x1_class2=np.random.randint(low=-5, high=5,size=12)\n",
    "x2_class2=x1_class2-np.random.randint(2.)\n",
    "\n",
    "x1_class2=list(x1_class2)\n",
    "x2_class2=list(x2_class2)\n",
    "\n",
    "for i in range(len(x1_class2)):\n",
    "    data=(x1_class2[i],x2_class2[i])\n",
    "    print(data)\n",
    "    Dataset.append(data)\n",
    "\n",
    "#class 3\n",
    "x1_class3=np.random.randint(low=5, high=15,size=12)\n",
    "x2_class3=x1_class3-np.random.randint(2.)\n",
    "\n",
    "x1_class3=list(x1_class3)\n",
    "x2_class3=list(x2_class3)\n",
    "\n",
    "for i in range(len(x1_class3)):\n",
    "    data=(x1_class3[i],x2_class3[i])\n",
    "    print(data)\n",
    "    Dataset.append(data)\n",
    "\n",
    "print(Dataset)"
   ]
  },
  {
   "cell_type": "code",
   "execution_count": 37,
   "metadata": {},
   "outputs": [
    {
     "data": {
      "text/plain": [
       "<matplotlib.axes._subplots.AxesSubplot at 0x1a1ec67a50>"
      ]
     },
     "execution_count": 37,
     "metadata": {},
     "output_type": "execute_result"
    }
   ],
   "source": [
    "for i in x1:\n",
    "    if i\n",
    "ax1"
   ]
  },
  {
   "cell_type": "code",
   "execution_count": 76,
   "metadata": {},
   "outputs": [
    {
     "data": {
      "text/plain": [
       "array([5, 8, 5, 6, 9, 5, 5, 7, 7, 6, 5, 6])"
      ]
     },
     "execution_count": 76,
     "metadata": {},
     "output_type": "execute_result"
    }
   ],
   "source": [
    "\n",
    "x1_class3"
   ]
  },
  {
   "cell_type": "code",
   "execution_count": 93,
   "metadata": {},
   "outputs": [
    {
     "name": "stdout",
     "output_type": "stream",
     "text": [
      "[11  9  7 12 12  9  5  6 14 11 13 12]\n",
      "[11  9  7 12 12  9  5  6 14 11 13 12]\n",
      "   Class 1    Class 2    Class 3    \n",
      "        x1 x2      x1 x2      x1  x2\n",
      "0        7  0      11  0       0   9\n",
      "1        0  3       7  2       2  12\n",
      "2        0  0      12  7      -4   9\n",
      "3        8 -5       5  5      -1   6\n",
      "4        7 -2      14  3      -1  11\n",
      "5        1 -5      13  1      -3  12\n",
      "6        8 -1      11  0      -1   9\n",
      "7        0  2       7  2       1  12\n",
      "8        1 -1      12  8      -5   9\n",
      "9        9 -6       5  5      -2   6\n",
      "10       7 -3      14  3      -2  11\n",
      "11       2 -6      13  1      -4  12\n"
     ]
    }
   ],
   "source": [
    "#class 1\n",
    "x1_class1=np.random.randint(low=0, high=10,size=12)\n",
    "a=np.random.randint(low=2, size=12)\n",
    "x2_class1=x1_class1+a\n",
    "\n",
    "x1_class1=list(x1_class1)\n",
    "x2_class1=list(x2_class1)\n",
    "\n",
    "Class_1=[]\n",
    "for i in range(len(x1_class1)):\n",
    "    data=[x1_class1[i],x2_class1[i]]\n",
    "    Class_1.append(data)\n",
    "\n",
    "#class 2\n",
    "x1_class2=np.random.randint(low=-5, high=5,size=12)\n",
    "x2_class2=x1_class2-np.random.randint(2.)\n",
    "\n",
    "x1_class2=list(x1_class2)\n",
    "x2_class2=list(x2_class2)\n",
    "\n",
    "Class_2=[]\n",
    "for i in range(len(x1_class2)):\n",
    "    data=[x1_class2[i],x2_class2[i]]\n",
    "    Class_2.append(data)\n",
    "\n",
    "#class 3\n",
    "x1_class3=np.random.randint(low=5, high=15,size=12)\n",
    "x2_class3=x1_class3-np.random.randint(2.)\n",
    "x1_class3=list(x1_class3)\n",
    "x2_class3=list(x2_class3)\n",
    "\n",
    "Class_3=[]\n",
    "for i in range(len(x1_class3)):\n",
    "    data=[x1_class3[i],x2_class3[i]]\n",
    "    Class_3.append(data)\n",
    "\n",
    "#Dataset\n",
    "import pandas as pd\n",
    "Data=np.array([Class_1, Class_2, Class_3])\n",
    "lable_one = np.array([\"Class 1\", \"Class 2\", \"Class 3\"])\n",
    "lable_two = np.array(['x1', 'x2'])\n",
    "cols = pd.MultiIndex.from_product([lable_one, lable_two])\n",
    "Dataset=pd.DataFrame(Data.T.reshape(12,-1), columns=cols)\n",
    "print(Dataset)"
   ]
  },
  {
   "cell_type": "code",
   "execution_count": 90,
   "metadata": {},
   "outputs": [
    {
     "data": {
      "image/png": "[encoded data removed]",
      "text/plain": [
       "<Figure size 432x288 with 1 Axes>"
      ]
     },
     "metadata": {
      "needs_background": "light"
     },
     "output_type": "display_data"
    }
   ],
   "source": [
    "import seaborn as sns\n",
    "sns.scatterplot(x=Dataset[\"Class 3\"][\"x1\"], y=Dataset[\"Class 3\"][\"x2\"])\n",
    "sns.scatterplot(x=Dataset[\"Class 2\"][\"x1\"], y=Dataset[\"Class 2\"][\"x2\"])\n",
    "sns.scatterplot(x=Dataset[\"Class 1\"][\"x1\"], y=Dataset[\"Class 1\"][\"x2\"])\n",
    "Data_plot=[]"
   ]
  },
  {
   "cell_type": "code",
   "execution_count": 91,
   "metadata": {},
   "outputs": [
    {
     "data": {
      "text/plain": [
       "array([ 8, 13,  8,  7,  6,  9,  6,  7,  7,  9, 12,  5])"
      ]
     },
     "execution_count": 91,
     "metadata": {},
     "output_type": "execute_result"
    }
   ],
   "source": [
    "np.random.randint(low=5, high=15,size=12)"
   ]
  },
  {
   "cell_type": "code",
   "execution_count": 29,
   "metadata": {},
   "outputs": [],
   "source": [
    "import numpy as np\n",
    "from sklearn.datasets import make_blobs\n",
    "X, y = make_blobs(n_samples=36, centers=3, n_features=2,random_state=0)\n",
    "X=np.round(X, decimals=2)\n",
    "\n",
    "Class_1=[]\n",
    "Class_2=[]\n",
    "Class_3=[]\n",
    "for i in range(len(y)):\n",
    "    if y[i]==0:\n",
    "        Class_1.append(X[i,])\n",
    "    elif y[i]==1:\n",
    "        Class_2.append(X[i,])\n",
    "    else:\n",
    "        Class_3.append(X[i,])\n",
    "\n",
    "\n",
    "import pandas as pd        \n",
    "Data=np.array([Class_1, Class_2, Class_3])\n",
    "#Data=np.transpose(Data)\n",
    "\n",
    "# lable_one = np.array([\"Class 1\", \"Class 2\", \"Class 3\"])\n",
    "# lable_two = np.array(['x1', 'x2'])\n",
    "# cols = pd.MultiIndex.from_product([lable_one, lable_two])\n",
    "\n",
    "Dataset=pd.DataFrame(Data.T.reshape(12,-1))\n",
    "#, columns=cols)\n",
    "#Dataset=pd.DataFrame(Data.T)\n"
   ]
  },
  {
   "cell_type": "code",
   "execution_count": null,
   "metadata": {},
   "outputs": [],
   "source": []
  },
  {
   "cell_type": "code",
   "execution_count": 32,
   "metadata": {},
   "outputs": [
    {
     "data": {
      "image/png": "[encoded data removed]",
      "text/plain": [
       "<Figure size 432x288 with 1 Axes>"
      ]
     },
     "metadata": {
      "needs_background": "light"
     },
     "output_type": "display_data"
    }
   ],
   "source": [
    "import matplotlib.pyplot as plt\n",
    "plt.scatter(X[:, 0], X[:, 1], marker='o', c=y,\n",
    "            s=25, edgecolor='k')\n",
    "plt.savefig(fname = \"my_scatter.png\", format = \"png\")"
   ]
  },
  {
   "cell_type": "code",
   "execution_count": null,
   "metadata": {},
   "outputs": [],
   "source": []
  },
  {
   "cell_type": "code",
   "execution_count": null,
   "metadata": {},
   "outputs": [],
   "source": [
    "Sample=[]\n",
    "for i in range(len(y)):\n",
    "    "
   ]
  }
 ],
 "metadata": {
  "kernelspec": {
   "display_name": "Python 3",
   "language": "python",
   "name": "python3"
  },
  "language_info": {
   "codemirror_mode": {
    "name": "ipython",
    "version": 3
   },
   "file_extension": ".py",
   "mimetype": "text/x-python",
   "name": "python",
   "nbconvert_exporter": "python",
   "pygments_lexer": "ipython3",
   "version": "3.7.4"
  }
 },
 "nbformat": 4,
 "nbformat_minor": 2
}
